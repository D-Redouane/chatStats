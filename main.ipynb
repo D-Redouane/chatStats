{
 "cells": [
  {
   "cell_type": "markdown",
   "metadata": {},
   "source": [
    "# Facebook Messenger Statistics"
   ]
  },
  {
   "cell_type": "code",
   "execution_count": null,
   "metadata": {},
   "outputs": [],
   "source": [
    "from scripts import loader\n",
    "from scripts import chatstat\n",
    "import os\n",
    "from plotly.subplots import make_subplots"
   ]
  },
  {
   "cell_type": "markdown",
   "metadata": {},
   "source": [
    "# Load your chats\n",
    "For more instructions go [here](https://github.com/simonwongwong/Facebook-Messenger-Statistics#how-to-use)\n",
    "\n",
    "When you extract your data from Facebook it should contain a folder called `messages`, and there should be an `inbox` folder within the `messages` folder.\n",
    "Pass in the path of the `inbox` folder into `parse_from_json`"
   ]
  },
  {
   "cell_type": "code",
   "execution_count": null,
   "metadata": {},
   "outputs": [],
   "source": [
    "cs = chatstat.ChatStat(*loader.parse_from_json(\"path/to/your_facebook_activity/messages/inbox\"))"
   ]
  },
  {
   "cell_type": "markdown",
   "metadata": {},
   "source": [
    "# All-time stats\n",
    "Here are some statistics using all available chat data"
   ]
  },
  {
   "cell_type": "markdown",
   "metadata": {},
   "source": [
    "## Who are you chatting with?"
   ]
  },
  {
   "cell_type": "code",
   "execution_count": null,
   "metadata": {},
   "outputs": [],
   "source": [
    "who = make_subplots(rows=2, cols=2, specs=[[{\"type\": \"bar\"}, {\"type\": \"bar\"}], [{\"type\": \"bar\", \"colspan\": 2}, None]],\n",
    "                    subplot_titles=['# of Messages by Sender', '# of Chats by Sender','# of Messages by Chat'])\n",
    "who.add_trace(cs.sent_from(top=10,omit_first=True,kind='bar',show=False), row=1,col=1)\n",
    "who.add_trace(cs.chat_counts(top=10,omit_first=True,show=False), row=1,col=2)\n",
    "who.add_trace(cs.biggest_chat(top=10,kind='bar',show=False), row=2,col=1)\n",
    "who.update_layout(height=950, width=950, showlegend=False, title_text=\"Stats by Number of Messages\")\n",
    "who.show()\n",
    "\n",
    "who_pct = make_subplots(rows=1, cols=2, specs=[[{\"type\": \"pie\"}, {\"type\": \"pie\"}]])\n",
    "who_pct.add_trace(cs.sent_from(top=10,omit_first=True,kind='pie',show=False), row=1,col=1)\n",
    "who_pct.add_trace(cs.biggest_chat(top=10,kind='pie',show=False), row=1,col=2)\n",
    "who_pct.update_layout(height=475, width=950, showlegend=True, title_text=\"Stats by Proportion of Messages\")\n",
    "\n"
   ]
  },
  {
   "cell_type": "markdown",
   "metadata": {},
   "source": [
    "## How are you chatting them?"
   ]
  },
  {
   "cell_type": "code",
   "execution_count": null,
   "metadata": {},
   "outputs": [],
   "source": [
    "how = make_subplots(rows=1, cols=2, specs=[[{\"type\": \"pie\"}, {\"type\": \"pie\"}]])\n",
    "how.add_trace(cs.msg_types(show=False), row=1,col=1)\n",
    "how.add_trace(cs.chat_types(show=False), row=1,col=2)"
   ]
  },
  {
   "cell_type": "markdown",
   "metadata": {},
   "source": [
    "## When are you the most chatty?\n",
    "i.e. when are you procrastinating"
   ]
  },
  {
   "cell_type": "code",
   "execution_count": null,
   "metadata": {},
   "outputs": [],
   "source": [
    "cs.time_stats(show=True)"
   ]
  },
  {
   "cell_type": "markdown",
   "metadata": {},
   "source": [
    "## What words are you using?"
   ]
  },
  {
   "cell_type": "code",
   "execution_count": null,
   "metadata": {},
   "outputs": [],
   "source": [
    "cs.word_counts(length=[3,5])"
   ]
  },
  {
   "cell_type": "markdown",
   "metadata": {},
   "source": [
    "# View stats by sender\n",
    "set `sender_name` to your own name to see stats based on all messages sent by you\n",
    "\n",
    "set `sender_name` to one of your friend's names to see stats based on all messages sent by them"
   ]
  },
  {
   "cell_type": "code",
   "execution_count": null,
   "metadata": {
    "scrolled": true
   },
   "outputs": [],
   "source": [
    "sender_name = \"name_of_account\"\n",
    "cs.personal_stats(sender_name)"
   ]
  },
  {
   "cell_type": "markdown",
   "metadata": {},
   "source": [
    "# View stats per chat\n",
    "\n",
    "set `chat_name` to the name/title of any chat or group chat to see stats about messages sent to that chat from all participants\n",
    "\n",
    "How balanced are your chats?"
   ]
  },
  {
   "cell_type": "code",
   "execution_count": null,
   "metadata": {
    "scrolled": false
   },
   "outputs": [],
   "source": [
    "chat_name = \"name_of_account\"\n",
    "cs.stat_by_chat(chat_name)\n"
   ]
  },
  {
   "cell_type": "code",
   "execution_count": null,
   "metadata": {},
   "outputs": [],
   "source": [
    "# For report in HTML format From the Repository owner suggestion\n",
    "\n",
    "# you have to choose the folder with path /your_facebook_activity/messages/inbox choose inbox\n",
    "!python ./scripts/generate_report.py"
   ]
  },
  {
   "cell_type": "markdown",
   "metadata": {},
   "source": [
    "### ----------------------------------------------------------------\n",
    "### ----------------------------------------------------------------\n",
    "### ----------------------------------------------------------------\n",
    "### ----------------------------------------------------------------"
   ]
  },
  {
   "cell_type": "markdown",
   "metadata": {},
   "source": [
    "### Other Functions"
   ]
  },
  {
   "cell_type": "markdown",
   "metadata": {},
   "source": [
    "Reacting for messages counter"
   ]
  },
  {
   "cell_type": "code",
   "execution_count": null,
   "metadata": {},
   "outputs": [],
   "source": [
    "from datetime import datetime\n",
    "from plotly.subplots import make_subplots\n",
    "import pandas as pd\n",
    "import plotly.graph_objects as go\n",
    "from functools import wraps\n",
    "import json\n",
    "\n",
    "def count_reactions(messages):\n",
    "    stats = {}\n",
    "    total_reactions = {}\n",
    "    total_reactions_by_sender = {}\n",
    "    for message in messages:\n",
    "        sender = message['sender_name']\n",
    "        if 'reactions' in message:\n",
    "            reactions = message['reactions']\n",
    "            if sender not in stats:\n",
    "                stats[sender] = {}\n",
    "            for reaction in reactions:\n",
    "                # Decode the reaction as UTF-8\n",
    "                reaction_type = bytes(reaction['reaction'], 'latin-1').decode('utf-8')\n",
    "                if reaction_type not in stats[sender]:\n",
    "                    stats[sender][reaction_type] = 0\n",
    "                stats[sender][reaction_type] += 1\n",
    "                total_reactions[reaction_type] = total_reactions.get(reaction_type, 0) + 1\n",
    "                total_reactions_by_sender[sender] = total_reactions_by_sender.get(sender, 0) + 1\n",
    "\n",
    "\n",
    "\n",
    "    \n",
    "    # Generate pie chart for total reactions by sender\n",
    "    total_reactions_by_sender = dict(sorted(total_reactions_by_sender.items(), key=lambda item: item[1], reverse=True))\n",
    "\n",
    "    # Group \"Other\" reactions\n",
    "    total_count = sum(total_reactions_by_sender.values())\n",
    "    other_count = sum(count for sender, count in total_reactions_by_sender.items() if count / total_count < 0.005)\n",
    "    total_reactions_by_sender = {sender: count for sender, count in total_reactions_by_sender.items() if count / total_count >= 0.005}\n",
    "    if other_count > 0:\n",
    "        total_reactions_by_sender['Others'] = other_count\n",
    "\n",
    "    # Add count to labels\n",
    "    labels = [f'{sender}\\n({count})' for sender, count in total_reactions_by_sender.items()]\n",
    "\n",
    "    fig = go.Figure(data=[go.Pie(labels=labels, values=list(total_reactions_by_sender.values()))])\n",
    "    fig.update_layout(title_text='Total reactions by sender')\n",
    "    fig.show()\n",
    "\n",
    "\n",
    "\n",
    "\n",
    "\n",
    "    # Sort reactions by total count\n",
    "    sorted_reactions = sorted(total_reactions.items(), key=lambda item: item[1], reverse=True)\n",
    "\n",
    "    # Generate pie chart for each reaction\n",
    "    for reaction, _ in sorted_reactions:\n",
    "        senders = {sender: reactions[reaction] for sender, reactions in stats.items() if reaction in reactions}\n",
    "        # Sort senders from most to least\n",
    "        senders = dict(sorted(senders.items(), key=lambda item: item[1], reverse=True))\n",
    "\n",
    "        # Group \"Other\" senders\n",
    "        other_count = sum(count for sender, count in senders.items() if count / total_reactions[reaction] < 0.005)\n",
    "        senders = {sender: count for sender, count in senders.items() if count / total_reactions[reaction] >= 0.005}\n",
    "        if other_count > 0:\n",
    "            senders['Others'] = other_count\n",
    "\n",
    "        fig = go.Figure(data=[go.Pie(labels=list(senders.keys()), values=list(senders.values()))])\n",
    "        fig.update_layout(title_text=f'Senders for {reaction} reaction')\n",
    "        fig.show()\n",
    "\n",
    "    return stats\n",
    "\n",
    "with open('path/to/your/file/of/the/conversation.json', 'r', encoding='utf-8') as f:\n",
    "    data = json.load(f)\n",
    "    messages = data['messages']\n",
    "\n",
    "count_reactions(messages)"
   ]
  },
  {
   "cell_type": "code",
   "execution_count": null,
   "metadata": {},
   "outputs": [],
   "source": [
    "def count_reactions_by_sender(messages, sender_name):\n",
    "     stats = {}\n",
    "     total_reactions = {}\n",
    "     total_reactions_by_sender = {}\n",
    "     for message in messages:\n",
    "          sender = message['sender_name']\n",
    "          if 'reactions' in message:\n",
    "               reactions = message['reactions']\n",
    "               if sender == sender_name:\n",
    "                    for reaction in reactions:\n",
    "                         reacter = reaction['actor']\n",
    "                         # Decode the reaction as UTF-8\n",
    "                         reaction_type = bytes(reaction['reaction'], 'latin-1').decode('utf-8')\n",
    "                         if reacter not in stats:\n",
    "                              stats[reacter] = {}\n",
    "                         if reaction_type not in stats[reacter]:\n",
    "                              stats[reacter][reaction_type] = 0\n",
    "                         stats[reacter][reaction_type] += 1\n",
    "                         total_reactions[reaction_type] = total_reactions.get(reaction_type, 0) + 1\n",
    "                         total_reactions_by_sender[reacter] = total_reactions_by_sender.get(reacter, 0) + 1\n",
    "\n",
    "     # Sort reactions by total count\n",
    "     sorted_reactions = sorted(total_reactions_by_sender.items(), key=lambda item: item[1], reverse=True)\n",
    "\n",
    "     # Group \"Other\" senders\n",
    "     other_count = sum(count for sender, count in sorted_reactions[20:])\n",
    "     top_reactions_by_sender = dict(sorted_reactions[:20])\n",
    "     if other_count > 0:\n",
    "          top_reactions_by_sender['Others'] = other_count\n",
    "\n",
    "     # Generate pie chart\n",
    "     labels = list(top_reactions_by_sender.keys())\n",
    "     values = list(top_reactions_by_sender.values())\n",
    "\n",
    "     fig = go.Figure(data=[go.Pie(labels=labels, values=values)])\n",
    "     fig.update_layout(title_text=f'Top 10 Reactions to {sender_name}')\n",
    "     fig.show()\n",
    "\n",
    "     return stats\n",
    "\n",
    "# Example usage\n",
    "count_reactions_by_sender(messages, \"name_of_account\")\n",
    "\n"
   ]
  },
  {
   "cell_type": "code",
   "execution_count": null,
   "metadata": {},
   "outputs": [],
   "source": [
    "def count_reactions_by_reacter(messages, reacter_name):\n",
    "     stats = {}\n",
    "     total_reactions = {}\n",
    "     total_reactions_to_recipients = {}\n",
    "     \n",
    "     for message in messages:\n",
    "          if 'reactions' in message:\n",
    "               reactions = message['reactions']\n",
    "               for reaction in reactions:\n",
    "                    reacter = reaction['actor']\n",
    "                    # Decode the reaction as UTF-8\n",
    "                    reaction_type = bytes(reaction['reaction'], 'latin-1').decode('utf-8')\n",
    "                    \n",
    "                    if reacter == reacter_name:\n",
    "                         recipient = message['sender_name']\n",
    "                         \n",
    "                         if recipient not in stats:\n",
    "                              stats[recipient] = {}\n",
    "                         \n",
    "                         if reaction_type not in stats[recipient]:\n",
    "                              stats[recipient][reaction_type] = 0\n",
    "                         \n",
    "                         stats[recipient][reaction_type] += 1\n",
    "                         \n",
    "                         total_reactions[reaction_type] = total_reactions.get(reaction_type, 0) + 1\n",
    "                         \n",
    "                         if recipient not in total_reactions_to_recipients:\n",
    "                              total_reactions_to_recipients[recipient] = 0\n",
    "                         \n",
    "                         total_reactions_to_recipients[recipient] += 1\n",
    "     \n",
    "     # Sort recipients by total count\n",
    "     most_reacted_recipient = max(total_reactions_to_recipients, key=total_reactions_to_recipients.get, default=None)\n",
    "     \n",
    "     # Generate pie chart for total reactions to recipients\n",
    "     labels = list(total_reactions_to_recipients.keys())\n",
    "     values = list(total_reactions_to_recipients.values())\n",
    "     \n",
    "     fig = go.Figure(data=[go.Pie(labels=labels, values=values)])\n",
    "     fig.update_layout(title_text=f'Top 10 Reactions by {reacter_name}')\n",
    "     fig.show()\n",
    "     \n",
    "     # Get total reactions by the reacter\n",
    "     total_reactions_by_reacter = sum(total_reactions_to_recipients.values())\n",
    "     \n",
    "     return total_reactions_by_reacter, most_reacted_recipient\n",
    "\n",
    "# Example usage\n",
    "account=\"name_of_account\"\n",
    "total_reactions_by_reacter, most_reacted_recipient = count_reactions_by_reacter(messages, account)\n",
    "print(f\"Total reactions by {account}: {total_reactions_by_reacter}\")\n",
    "print(f\"the most Person reacted to {account} is: {most_reacted_recipient}\")\n"
   ]
  }
 ],
 "metadata": {
  "kernelspec": {
   "display_name": "Python 3",
   "language": "python",
   "name": "python3"
  },
  "language_info": {
   "codemirror_mode": {
    "name": "ipython",
    "version": 3
   },
   "file_extension": ".py",
   "mimetype": "text/x-python",
   "name": "python",
   "nbconvert_exporter": "python",
   "pygments_lexer": "ipython3",
   "version": "3.12.2"
  }
 },
 "nbformat": 4,
 "nbformat_minor": 2
}
